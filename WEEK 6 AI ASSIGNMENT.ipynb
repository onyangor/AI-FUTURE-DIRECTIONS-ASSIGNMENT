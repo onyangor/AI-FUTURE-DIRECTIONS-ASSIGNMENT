{
  "nbformat": 4,
  "nbformat_minor": 0,
  "metadata": {
    "colab": {
      "provenance": []
    },
    "kernelspec": {
      "name": "python3",
      "display_name": "Python 3"
    },
    "language_info": {
      "name": "python"
    }
  },
  "cells": [
    {
      "cell_type": "code",
      "execution_count": null,
      "metadata": {
        "id": "1Vzkl-4dFxdH"
      },
      "outputs": [],
      "source": []
    },
    {
      "cell_type": "code",
      "source": [
        "# Step 1: Upload your Kaggle API key (kaggle.json)\n",
        "from google.colab import files\n",
        "files.upload()"
      ],
      "metadata": {
        "colab": {
          "base_uri": "https://localhost:8080/",
          "height": 90
        },
        "id": "Fe5u8DxlRFX5",
        "outputId": "e67c6e83-cbfb-455e-8b1b-65c82c1cdc95"
      },
      "execution_count": 10,
      "outputs": [
        {
          "output_type": "display_data",
          "data": {
            "text/plain": [
              "<IPython.core.display.HTML object>"
            ],
            "text/html": [
              "\n",
              "     <input type=\"file\" id=\"files-8afbb2a3-cbca-49c8-8393-075a6d8182bf\" name=\"files[]\" multiple disabled\n",
              "        style=\"border:none\" />\n",
              "     <output id=\"result-8afbb2a3-cbca-49c8-8393-075a6d8182bf\">\n",
              "      Upload widget is only available when the cell has been executed in the\n",
              "      current browser session. Please rerun this cell to enable.\n",
              "      </output>\n",
              "      <script>// Copyright 2017 Google LLC\n",
              "//\n",
              "// Licensed under the Apache License, Version 2.0 (the \"License\");\n",
              "// you may not use this file except in compliance with the License.\n",
              "// You may obtain a copy of the License at\n",
              "//\n",
              "//      http://www.apache.org/licenses/LICENSE-2.0\n",
              "//\n",
              "// Unless required by applicable law or agreed to in writing, software\n",
              "// distributed under the License is distributed on an \"AS IS\" BASIS,\n",
              "// WITHOUT WARRANTIES OR CONDITIONS OF ANY KIND, either express or implied.\n",
              "// See the License for the specific language governing permissions and\n",
              "// limitations under the License.\n",
              "\n",
              "/**\n",
              " * @fileoverview Helpers for google.colab Python module.\n",
              " */\n",
              "(function(scope) {\n",
              "function span(text, styleAttributes = {}) {\n",
              "  const element = document.createElement('span');\n",
              "  element.textContent = text;\n",
              "  for (const key of Object.keys(styleAttributes)) {\n",
              "    element.style[key] = styleAttributes[key];\n",
              "  }\n",
              "  return element;\n",
              "}\n",
              "\n",
              "// Max number of bytes which will be uploaded at a time.\n",
              "const MAX_PAYLOAD_SIZE = 100 * 1024;\n",
              "\n",
              "function _uploadFiles(inputId, outputId) {\n",
              "  const steps = uploadFilesStep(inputId, outputId);\n",
              "  const outputElement = document.getElementById(outputId);\n",
              "  // Cache steps on the outputElement to make it available for the next call\n",
              "  // to uploadFilesContinue from Python.\n",
              "  outputElement.steps = steps;\n",
              "\n",
              "  return _uploadFilesContinue(outputId);\n",
              "}\n",
              "\n",
              "// This is roughly an async generator (not supported in the browser yet),\n",
              "// where there are multiple asynchronous steps and the Python side is going\n",
              "// to poll for completion of each step.\n",
              "// This uses a Promise to block the python side on completion of each step,\n",
              "// then passes the result of the previous step as the input to the next step.\n",
              "function _uploadFilesContinue(outputId) {\n",
              "  const outputElement = document.getElementById(outputId);\n",
              "  const steps = outputElement.steps;\n",
              "\n",
              "  const next = steps.next(outputElement.lastPromiseValue);\n",
              "  return Promise.resolve(next.value.promise).then((value) => {\n",
              "    // Cache the last promise value to make it available to the next\n",
              "    // step of the generator.\n",
              "    outputElement.lastPromiseValue = value;\n",
              "    return next.value.response;\n",
              "  });\n",
              "}\n",
              "\n",
              "/**\n",
              " * Generator function which is called between each async step of the upload\n",
              " * process.\n",
              " * @param {string} inputId Element ID of the input file picker element.\n",
              " * @param {string} outputId Element ID of the output display.\n",
              " * @return {!Iterable<!Object>} Iterable of next steps.\n",
              " */\n",
              "function* uploadFilesStep(inputId, outputId) {\n",
              "  const inputElement = document.getElementById(inputId);\n",
              "  inputElement.disabled = false;\n",
              "\n",
              "  const outputElement = document.getElementById(outputId);\n",
              "  outputElement.innerHTML = '';\n",
              "\n",
              "  const pickedPromise = new Promise((resolve) => {\n",
              "    inputElement.addEventListener('change', (e) => {\n",
              "      resolve(e.target.files);\n",
              "    });\n",
              "  });\n",
              "\n",
              "  const cancel = document.createElement('button');\n",
              "  inputElement.parentElement.appendChild(cancel);\n",
              "  cancel.textContent = 'Cancel upload';\n",
              "  const cancelPromise = new Promise((resolve) => {\n",
              "    cancel.onclick = () => {\n",
              "      resolve(null);\n",
              "    };\n",
              "  });\n",
              "\n",
              "  // Wait for the user to pick the files.\n",
              "  const files = yield {\n",
              "    promise: Promise.race([pickedPromise, cancelPromise]),\n",
              "    response: {\n",
              "      action: 'starting',\n",
              "    }\n",
              "  };\n",
              "\n",
              "  cancel.remove();\n",
              "\n",
              "  // Disable the input element since further picks are not allowed.\n",
              "  inputElement.disabled = true;\n",
              "\n",
              "  if (!files) {\n",
              "    return {\n",
              "      response: {\n",
              "        action: 'complete',\n",
              "      }\n",
              "    };\n",
              "  }\n",
              "\n",
              "  for (const file of files) {\n",
              "    const li = document.createElement('li');\n",
              "    li.append(span(file.name, {fontWeight: 'bold'}));\n",
              "    li.append(span(\n",
              "        `(${file.type || 'n/a'}) - ${file.size} bytes, ` +\n",
              "        `last modified: ${\n",
              "            file.lastModifiedDate ? file.lastModifiedDate.toLocaleDateString() :\n",
              "                                    'n/a'} - `));\n",
              "    const percent = span('0% done');\n",
              "    li.appendChild(percent);\n",
              "\n",
              "    outputElement.appendChild(li);\n",
              "\n",
              "    const fileDataPromise = new Promise((resolve) => {\n",
              "      const reader = new FileReader();\n",
              "      reader.onload = (e) => {\n",
              "        resolve(e.target.result);\n",
              "      };\n",
              "      reader.readAsArrayBuffer(file);\n",
              "    });\n",
              "    // Wait for the data to be ready.\n",
              "    let fileData = yield {\n",
              "      promise: fileDataPromise,\n",
              "      response: {\n",
              "        action: 'continue',\n",
              "      }\n",
              "    };\n",
              "\n",
              "    // Use a chunked sending to avoid message size limits. See b/62115660.\n",
              "    let position = 0;\n",
              "    do {\n",
              "      const length = Math.min(fileData.byteLength - position, MAX_PAYLOAD_SIZE);\n",
              "      const chunk = new Uint8Array(fileData, position, length);\n",
              "      position += length;\n",
              "\n",
              "      const base64 = btoa(String.fromCharCode.apply(null, chunk));\n",
              "      yield {\n",
              "        response: {\n",
              "          action: 'append',\n",
              "          file: file.name,\n",
              "          data: base64,\n",
              "        },\n",
              "      };\n",
              "\n",
              "      let percentDone = fileData.byteLength === 0 ?\n",
              "          100 :\n",
              "          Math.round((position / fileData.byteLength) * 100);\n",
              "      percent.textContent = `${percentDone}% done`;\n",
              "\n",
              "    } while (position < fileData.byteLength);\n",
              "  }\n",
              "\n",
              "  // All done.\n",
              "  yield {\n",
              "    response: {\n",
              "      action: 'complete',\n",
              "    }\n",
              "  };\n",
              "}\n",
              "\n",
              "scope.google = scope.google || {};\n",
              "scope.google.colab = scope.google.colab || {};\n",
              "scope.google.colab._files = {\n",
              "  _uploadFiles,\n",
              "  _uploadFilesContinue,\n",
              "};\n",
              "})(self);\n",
              "</script> "
            ]
          },
          "metadata": {}
        },
        {
          "output_type": "stream",
          "name": "stdout",
          "text": [
            "Saving kaggle.json to kaggle.json\n"
          ]
        },
        {
          "output_type": "execute_result",
          "data": {
            "text/plain": [
              "{'kaggle.json': b'{\"username\":\"raybeckhamonyango\",\"key\":\"6dd420facfb86ed37c81735ec1a764c3\"}'}"
            ]
          },
          "metadata": {},
          "execution_count": 10
        }
      ]
    },
    {
      "cell_type": "code",
      "source": [
        "# Step 2: Setup Kaggle credentials\n",
        "!mkdir -p ~/.kaggle\n",
        "!mv kaggle.json ~/.kaggle/\n",
        "!chmod 600 ~/.kaggle/kaggle.json\n"
      ],
      "metadata": {
        "id": "kmqAYaVDGcfD"
      },
      "execution_count": 11,
      "outputs": []
    },
    {
      "cell_type": "code",
      "source": [
        "\n",
        "# Step 3: Install and download dataset from Kaggle\n",
        "!pip install -q kaggle\n",
        "!kaggle datasets download -d asdasdasasdas/garbage-classification\n",
        "!unzip -q garbage-classification.zip -d /content/garbage"
      ],
      "metadata": {
        "colab": {
          "base_uri": "https://localhost:8080/"
        },
        "id": "OvmUYiQWIcWv",
        "outputId": "726e4b66-811f-4de4-cb51-602748612c3c"
      },
      "execution_count": 12,
      "outputs": [
        {
          "output_type": "stream",
          "name": "stdout",
          "text": [
            "Dataset URL: https://www.kaggle.com/datasets/asdasdasasdas/garbage-classification\n",
            "License(s): copyright-authors\n",
            "garbage-classification.zip: Skipping, found more recently modified local copy (use --force to force download)\n",
            "replace /content/garbage/Garbage classification/Garbage classification/cardboard/cardboard1.jpg? [y]es, [n]o, [A]ll, [N]one, [r]ename: "
          ]
        }
      ]
    },
    {
      "cell_type": "code",
      "source": [
        "# Step 4: Install TensorFlow and TensorFlow Hub\n",
        "!pip install -q tensorflow tensorflow_hub"
      ],
      "metadata": {
        "id": "vMK-i9esMEkK"
      },
      "execution_count": 13,
      "outputs": []
    },
    {
      "cell_type": "code",
      "source": [
        "# Step 5: Import required libraries\n",
        "import tensorflow as tf\n",
        "import tensorflow_hub as hub\n",
        "import matplotlib.pyplot as plt\n",
        "import numpy as np\n",
        "import os"
      ],
      "metadata": {
        "id": "VwwRj9WQGgCx"
      },
      "execution_count": 14,
      "outputs": []
    },
    {
      "cell_type": "code",
      "source": [
        "# Step 6: Load and preprocess dataset\n",
        "IMG_SIZE = 224\n",
        "BATCH_SIZE = 32\n",
        "AUTOTUNE = tf.data.AUTOTUNE\n",
        "\n",
        "dataset_path = \"/content/garbage/Garbage classification/Garbage classification\"\n",
        "\n",
        "train_ds = tf.keras.utils.image_dataset_from_directory(\n",
        "    dataset_path,\n",
        "    validation_split=0.2,\n",
        "    subset=\"training\",\n",
        "    seed=123,\n",
        "    image_size=(IMG_SIZE, IMG_SIZE),\n",
        "    batch_size=BATCH_SIZE\n",
        ")\n",
        "\n",
        "val_ds = tf.keras.utils.image_dataset_from_directory(\n",
        "    dataset_path,\n",
        "    validation_split=0.2,\n",
        "    subset=\"validation\",\n",
        "    seed=123,\n",
        "    image_size=(IMG_SIZE, IMG_SIZE),\n",
        "    batch_size=BATCH_SIZE\n",
        ")\n",
        "\n",
        "class_names = train_ds.class_names\n",
        "NUM_CLASSES = len(class_names)\n",
        "\n",
        "train_ds = train_ds.cache().shuffle(1000).prefetch(buffer_size=AUTOTUNE)\n",
        "val_ds = val_ds.cache().prefetch(buffer_size=AUTOTUNE)\n",
        "\n",
        "print(\"Classes:\", class_names)"
      ],
      "metadata": {
        "colab": {
          "base_uri": "https://localhost:8080/"
        },
        "id": "lF-pbuahGwDK",
        "outputId": "368828fc-26c6-4b1e-c5c2-dafaf6514e71"
      },
      "execution_count": 15,
      "outputs": [
        {
          "output_type": "stream",
          "name": "stdout",
          "text": [
            "Found 2527 files belonging to 6 classes.\n",
            "Using 2022 files for training.\n",
            "Found 2527 files belonging to 6 classes.\n",
            "Using 505 files for validation.\n",
            "Classes: ['cardboard', 'glass', 'metal', 'paper', 'plastic', 'trash']\n"
          ]
        }
      ]
    },
    {
      "cell_type": "code",
      "source": [
        "# Step 7: Load MobileNetV2 feature extractor\n",
        "feature_extractor_url = \"https://tfhub.dev/google/imagenet/mobilenet_v2_100_224/feature_vector/5\"\n",
        "feature_extractor_layer = hub.KerasLayer(feature_extractor_url, trainable=False)"
      ],
      "metadata": {
        "id": "C_01rpYVSfQ7"
      },
      "execution_count": 16,
      "outputs": []
    },
    {
      "cell_type": "code",
      "source": [
        "\n",
        "# Step 8: Build the model\n",
        "def build_model():\n",
        "    inputs = tf.keras.Input(shape=(IMG_SIZE, IMG_SIZE, 3))\n",
        "    x = tf.keras.layers.Lambda(lambda img: feature_extractor_layer(img))(inputs)\n",
        "    outputs = tf.keras.layers.Dense(NUM_CLASSES, activation='softmax')(x)\n",
        "    return tf.keras.Model(inputs=inputs, outputs=outputs)\n",
        "\n",
        "model = build_model()\n",
        "model.compile(optimizer='adam', loss='sparse_categorical_crossentropy', metrics=['accuracy'])\n",
        "model.summary()"
      ],
      "metadata": {
        "colab": {
          "base_uri": "https://localhost:8080/",
          "height": 238
        },
        "id": "MNkxTU-ySiWT",
        "outputId": "98231a0a-9698-4027-d49f-64373a086b0e"
      },
      "execution_count": 17,
      "outputs": [
        {
          "output_type": "display_data",
          "data": {
            "text/plain": [
              "\u001b[1mModel: \"functional\"\u001b[0m\n"
            ],
            "text/html": [
              "<pre style=\"white-space:pre;overflow-x:auto;line-height:normal;font-family:Menlo,'DejaVu Sans Mono',consolas,'Courier New',monospace\"><span style=\"font-weight: bold\">Model: \"functional\"</span>\n",
              "</pre>\n"
            ]
          },
          "metadata": {}
        },
        {
          "output_type": "display_data",
          "data": {
            "text/plain": [
              "┏━━━━━━━━━━━━━━━━━━━━━━━━━━━━━━━━━┳━━━━━━━━━━━━━━━━━━━━━━━━┳━━━━━━━━━━━━━━━┓\n",
              "┃\u001b[1m \u001b[0m\u001b[1mLayer (type)                   \u001b[0m\u001b[1m \u001b[0m┃\u001b[1m \u001b[0m\u001b[1mOutput Shape          \u001b[0m\u001b[1m \u001b[0m┃\u001b[1m \u001b[0m\u001b[1m      Param #\u001b[0m\u001b[1m \u001b[0m┃\n",
              "┡━━━━━━━━━━━━━━━━━━━━━━━━━━━━━━━━━╇━━━━━━━━━━━━━━━━━━━━━━━━╇━━━━━━━━━━━━━━━┩\n",
              "│ input_layer (\u001b[38;5;33mInputLayer\u001b[0m)        │ (\u001b[38;5;45mNone\u001b[0m, \u001b[38;5;34m224\u001b[0m, \u001b[38;5;34m224\u001b[0m, \u001b[38;5;34m3\u001b[0m)    │             \u001b[38;5;34m0\u001b[0m │\n",
              "├─────────────────────────────────┼────────────────────────┼───────────────┤\n",
              "│ lambda (\u001b[38;5;33mLambda\u001b[0m)                 │ (\u001b[38;5;45mNone\u001b[0m, \u001b[38;5;34m1280\u001b[0m)           │             \u001b[38;5;34m0\u001b[0m │\n",
              "├─────────────────────────────────┼────────────────────────┼───────────────┤\n",
              "│ dense (\u001b[38;5;33mDense\u001b[0m)                   │ (\u001b[38;5;45mNone\u001b[0m, \u001b[38;5;34m6\u001b[0m)              │         \u001b[38;5;34m7,686\u001b[0m │\n",
              "└─────────────────────────────────┴────────────────────────┴───────────────┘\n"
            ],
            "text/html": [
              "<pre style=\"white-space:pre;overflow-x:auto;line-height:normal;font-family:Menlo,'DejaVu Sans Mono',consolas,'Courier New',monospace\">┏━━━━━━━━━━━━━━━━━━━━━━━━━━━━━━━━━┳━━━━━━━━━━━━━━━━━━━━━━━━┳━━━━━━━━━━━━━━━┓\n",
              "┃<span style=\"font-weight: bold\"> Layer (type)                    </span>┃<span style=\"font-weight: bold\"> Output Shape           </span>┃<span style=\"font-weight: bold\">       Param # </span>┃\n",
              "┡━━━━━━━━━━━━━━━━━━━━━━━━━━━━━━━━━╇━━━━━━━━━━━━━━━━━━━━━━━━╇━━━━━━━━━━━━━━━┩\n",
              "│ input_layer (<span style=\"color: #0087ff; text-decoration-color: #0087ff\">InputLayer</span>)        │ (<span style=\"color: #00d7ff; text-decoration-color: #00d7ff\">None</span>, <span style=\"color: #00af00; text-decoration-color: #00af00\">224</span>, <span style=\"color: #00af00; text-decoration-color: #00af00\">224</span>, <span style=\"color: #00af00; text-decoration-color: #00af00\">3</span>)    │             <span style=\"color: #00af00; text-decoration-color: #00af00\">0</span> │\n",
              "├─────────────────────────────────┼────────────────────────┼───────────────┤\n",
              "│ lambda (<span style=\"color: #0087ff; text-decoration-color: #0087ff\">Lambda</span>)                 │ (<span style=\"color: #00d7ff; text-decoration-color: #00d7ff\">None</span>, <span style=\"color: #00af00; text-decoration-color: #00af00\">1280</span>)           │             <span style=\"color: #00af00; text-decoration-color: #00af00\">0</span> │\n",
              "├─────────────────────────────────┼────────────────────────┼───────────────┤\n",
              "│ dense (<span style=\"color: #0087ff; text-decoration-color: #0087ff\">Dense</span>)                   │ (<span style=\"color: #00d7ff; text-decoration-color: #00d7ff\">None</span>, <span style=\"color: #00af00; text-decoration-color: #00af00\">6</span>)              │         <span style=\"color: #00af00; text-decoration-color: #00af00\">7,686</span> │\n",
              "└─────────────────────────────────┴────────────────────────┴───────────────┘\n",
              "</pre>\n"
            ]
          },
          "metadata": {}
        },
        {
          "output_type": "display_data",
          "data": {
            "text/plain": [
              "\u001b[1m Total params: \u001b[0m\u001b[38;5;34m7,686\u001b[0m (30.02 KB)\n"
            ],
            "text/html": [
              "<pre style=\"white-space:pre;overflow-x:auto;line-height:normal;font-family:Menlo,'DejaVu Sans Mono',consolas,'Courier New',monospace\"><span style=\"font-weight: bold\"> Total params: </span><span style=\"color: #00af00; text-decoration-color: #00af00\">7,686</span> (30.02 KB)\n",
              "</pre>\n"
            ]
          },
          "metadata": {}
        },
        {
          "output_type": "display_data",
          "data": {
            "text/plain": [
              "\u001b[1m Trainable params: \u001b[0m\u001b[38;5;34m7,686\u001b[0m (30.02 KB)\n"
            ],
            "text/html": [
              "<pre style=\"white-space:pre;overflow-x:auto;line-height:normal;font-family:Menlo,'DejaVu Sans Mono',consolas,'Courier New',monospace\"><span style=\"font-weight: bold\"> Trainable params: </span><span style=\"color: #00af00; text-decoration-color: #00af00\">7,686</span> (30.02 KB)\n",
              "</pre>\n"
            ]
          },
          "metadata": {}
        },
        {
          "output_type": "display_data",
          "data": {
            "text/plain": [
              "\u001b[1m Non-trainable params: \u001b[0m\u001b[38;5;34m0\u001b[0m (0.00 B)\n"
            ],
            "text/html": [
              "<pre style=\"white-space:pre;overflow-x:auto;line-height:normal;font-family:Menlo,'DejaVu Sans Mono',consolas,'Courier New',monospace\"><span style=\"font-weight: bold\"> Non-trainable params: </span><span style=\"color: #00af00; text-decoration-color: #00af00\">0</span> (0.00 B)\n",
              "</pre>\n"
            ]
          },
          "metadata": {}
        }
      ]
    },
    {
      "cell_type": "code",
      "source": [
        "# Step 9: Train the model\n",
        "history = model.fit(train_ds, validation_data=val_ds, epochs=5)"
      ],
      "metadata": {
        "colab": {
          "base_uri": "https://localhost:8080/"
        },
        "id": "oheopme3Slbj",
        "outputId": "db436530-c2e3-4bda-e2e5-45422e8a1897"
      },
      "execution_count": 18,
      "outputs": [
        {
          "output_type": "stream",
          "name": "stdout",
          "text": [
            "Epoch 1/5\n",
            "\u001b[1m64/64\u001b[0m \u001b[32m━━━━━━━━━━━━━━━━━━━━\u001b[0m\u001b[37m\u001b[0m \u001b[1m73s\u001b[0m 1s/step - accuracy: 0.3387 - loss: 1.6775 - val_accuracy: 0.5584 - val_loss: 1.1619\n",
            "Epoch 2/5\n",
            "\u001b[1m64/64\u001b[0m \u001b[32m━━━━━━━━━━━━━━━━━━━━\u001b[0m\u001b[37m\u001b[0m \u001b[1m52s\u001b[0m 813ms/step - accuracy: 0.5911 - loss: 1.0961 - val_accuracy: 0.5980 - val_loss: 1.0399\n",
            "Epoch 3/5\n",
            "\u001b[1m64/64\u001b[0m \u001b[32m━━━━━━━━━━━━━━━━━━━━\u001b[0m\u001b[37m\u001b[0m \u001b[1m51s\u001b[0m 806ms/step - accuracy: 0.6510 - loss: 0.9777 - val_accuracy: 0.6238 - val_loss: 0.9899\n",
            "Epoch 4/5\n",
            "\u001b[1m64/64\u001b[0m \u001b[32m━━━━━━━━━━━━━━━━━━━━\u001b[0m\u001b[37m\u001b[0m \u001b[1m53s\u001b[0m 835ms/step - accuracy: 0.6823 - loss: 0.9190 - val_accuracy: 0.6634 - val_loss: 0.9442\n",
            "Epoch 5/5\n",
            "\u001b[1m64/64\u001b[0m \u001b[32m━━━━━━━━━━━━━━━━━━━━\u001b[0m\u001b[37m\u001b[0m \u001b[1m52s\u001b[0m 818ms/step - accuracy: 0.7165 - loss: 0.8247 - val_accuracy: 0.6594 - val_loss: 0.9316\n"
          ]
        }
      ]
    },
    {
      "cell_type": "code",
      "source": [
        "# Step 10: Plot accuracy\n",
        "plt.figure(figsize=(10, 5))\n",
        "plt.plot(history.history['accuracy'], label='Train Accuracy')\n",
        "plt.plot(history.history['val_accuracy'], label='Val Accuracy')\n",
        "plt.title('Accuracy Over Epochs')\n",
        "plt.xlabel('Epoch')\n",
        "plt.ylabel('Accuracy')\n",
        "plt.legend()\n",
        "plt.grid(True)\n",
        "plt.show()"
      ],
      "metadata": {
        "colab": {
          "base_uri": "https://localhost:8080/",
          "height": 487
        },
        "id": "7YEf6WdFSn3U",
        "outputId": "6a68581c-99ff-4bb7-8949-4a5885461812"
      },
      "execution_count": 19,
      "outputs": [
        {
          "output_type": "display_data",
          "data": {
            "text/plain": [
              "<Figure size 1000x500 with 1 Axes>"
            ],
            "image/png": "[encoded data removed]"
          },
          "metadata": {}
        }
      ]
    },
    {
      "cell_type": "code",
      "source": [
        "# Step 11: Evaluate the model\n",
        "loss, acc = model.evaluate(val_ds)\n",
        "print(f\"✅ Final Validation Accuracy: {acc:.2f}\")"
      ],
      "metadata": {
        "colab": {
          "base_uri": "https://localhost:8080/"
        },
        "id": "72uxCVBoSq4s",
        "outputId": "e5fb01c6-de0f-43f2-e5cb-b36c0eb74226"
      },
      "execution_count": 20,
      "outputs": [
        {
          "output_type": "stream",
          "name": "stdout",
          "text": [
            "\u001b[1m16/16\u001b[0m \u001b[32m━━━━━━━━━━━━━━━━━━━━\u001b[0m\u001b[37m\u001b[0m \u001b[1m11s\u001b[0m 679ms/step - accuracy: 0.6553 - loss: 0.9244\n",
            "✅ Final Validation Accuracy: 0.66\n"
          ]
        }
      ]
    },
    {
      "cell_type": "code",
      "source": [
        "# Step 12: Convert to TensorFlow Lite\n",
        "converter = tf.lite.TFLiteConverter.from_keras_model(model)\n",
        "tflite_model = converter.convert()\n",
        "\n",
        "with open(\"/content/edge_model.tflite\", \"wb\") as f:\n",
        "    f.write(tflite_model)\n",
        "\n",
        "print(\"✅ TensorFlow Lite model saved: edge_model.tflite\")"
      ],
      "metadata": {
        "colab": {
          "base_uri": "https://localhost:8080/"
        },
        "id": "39wgGvj4Sr3r",
        "outputId": "1351bfc9-b644-4f1d-e88f-3779a1d6aadc"
      },
      "execution_count": 21,
      "outputs": [
        {
          "output_type": "stream",
          "name": "stdout",
          "text": [
            "Saved artifact at '/tmp/tmpvie0ng4l'. The following endpoints are available:\n",
            "\n",
            "* Endpoint 'serve'\n",
            "  args_0 (POSITIONAL_ONLY): TensorSpec(shape=(None, 224, 224, 3), dtype=tf.float32, name='keras_tensor')\n",
            "Output Type:\n",
            "  TensorSpec(shape=(None, 6), dtype=tf.float32, name=None)\n",
            "Captures:\n",
            "  140709015281232: TensorSpec(shape=(), dtype=tf.resource, name=None)\n",
            "  140709015059728: TensorSpec(shape=(), dtype=tf.resource, name=None)\n",
            "  140709015163088: TensorSpec(shape=(), dtype=tf.resource, name=None)\n",
            "  140709015281040: TensorSpec(shape=(), dtype=tf.resource, name=None)\n",
            "  140709015044176: TensorSpec(shape=(), dtype=tf.resource, name=None)\n",
            "  140709015047248: TensorSpec(shape=(), dtype=tf.resource, name=None)\n",
            "  140709015169616: TensorSpec(shape=(), dtype=tf.resource, name=None)\n",
            "  140709015276048: TensorSpec(shape=(), dtype=tf.resource, name=None)\n",
            "  140709015280848: TensorSpec(shape=(), dtype=tf.resource, name=None)\n",
            "  140709015057232: TensorSpec(shape=(), dtype=tf.resource, name=None)\n",
            "  140708035699984: TensorSpec(shape=(), dtype=tf.resource, name=None)\n",
            "  140709015059920: TensorSpec(shape=(), dtype=tf.resource, name=None)\n",
            "  140708035706704: TensorSpec(shape=(), dtype=tf.resource, name=None)\n",
            "  140709015169424: TensorSpec(shape=(), dtype=tf.resource, name=None)\n",
            "  140708035701520: TensorSpec(shape=(), dtype=tf.resource, name=None)\n",
            "  140709015174032: TensorSpec(shape=(), dtype=tf.resource, name=None)\n",
            "  140709015174608: TensorSpec(shape=(), dtype=tf.resource, name=None)\n",
            "  140709015057424: TensorSpec(shape=(), dtype=tf.resource, name=None)\n",
            "  140709015057040: TensorSpec(shape=(), dtype=tf.resource, name=None)\n",
            "  140709015163856: TensorSpec(shape=(), dtype=tf.resource, name=None)\n",
            "  140709015053776: TensorSpec(shape=(), dtype=tf.resource, name=None)\n",
            "  140709015277968: TensorSpec(shape=(), dtype=tf.resource, name=None)\n",
            "  140709015275856: TensorSpec(shape=(), dtype=tf.resource, name=None)\n",
            "  140709015053584: TensorSpec(shape=(), dtype=tf.resource, name=None)\n",
            "  140709015171920: TensorSpec(shape=(), dtype=tf.resource, name=None)\n",
            "  140709015049744: TensorSpec(shape=(), dtype=tf.resource, name=None)\n",
            "  140709015165776: TensorSpec(shape=(), dtype=tf.resource, name=None)\n",
            "  140709015052432: TensorSpec(shape=(), dtype=tf.resource, name=None)\n",
            "  140709015275664: TensorSpec(shape=(), dtype=tf.resource, name=None)\n",
            "  140709015047056: TensorSpec(shape=(), dtype=tf.resource, name=None)\n",
            "  140709015283920: TensorSpec(shape=(), dtype=tf.resource, name=None)\n",
            "  140709015280656: TensorSpec(shape=(), dtype=tf.resource, name=None)\n",
            "  140709015162896: TensorSpec(shape=(), dtype=tf.resource, name=None)\n",
            "  140709015162704: TensorSpec(shape=(), dtype=tf.resource, name=None)\n",
            "  140709015172304: TensorSpec(shape=(), dtype=tf.resource, name=None)\n",
            "  140709015046864: TensorSpec(shape=(), dtype=tf.resource, name=None)\n",
            "  140709015049552: TensorSpec(shape=(), dtype=tf.resource, name=None)\n",
            "  140708035706512: TensorSpec(shape=(), dtype=tf.resource, name=None)\n",
            "  140709015159824: TensorSpec(shape=(), dtype=tf.resource, name=None)\n",
            "  140709015277776: TensorSpec(shape=(), dtype=tf.resource, name=None)\n",
            "  140709015277584: TensorSpec(shape=(), dtype=tf.resource, name=None)\n",
            "  140709015174416: TensorSpec(shape=(), dtype=tf.resource, name=None)\n",
            "  140709015059536: TensorSpec(shape=(), dtype=tf.resource, name=None)\n",
            "  140709015283728: TensorSpec(shape=(), dtype=tf.resource, name=None)\n",
            "  140709015055504: TensorSpec(shape=(), dtype=tf.resource, name=None)\n",
            "  140709015160976: TensorSpec(shape=(), dtype=tf.resource, name=None)\n",
            "  140709015052240: TensorSpec(shape=(), dtype=tf.resource, name=None)\n",
            "  140709015171728: TensorSpec(shape=(), dtype=tf.resource, name=None)\n",
            "  140708035699600: TensorSpec(shape=(), dtype=tf.resource, name=None)\n",
            "  140709015051088: TensorSpec(shape=(), dtype=tf.resource, name=None)\n",
            "  140709015049360: TensorSpec(shape=(), dtype=tf.resource, name=None)\n",
            "  140709015049168: TensorSpec(shape=(), dtype=tf.resource, name=None)\n",
            "  140708035706320: TensorSpec(shape=(), dtype=tf.resource, name=None)\n",
            "  140709015162512: TensorSpec(shape=(), dtype=tf.resource, name=None)\n",
            "  140709015167312: TensorSpec(shape=(), dtype=tf.resource, name=None)\n",
            "  140709015161360: TensorSpec(shape=(), dtype=tf.resource, name=None)\n",
            "  140709015174224: TensorSpec(shape=(), dtype=tf.resource, name=None)\n",
            "  140709015059344: TensorSpec(shape=(), dtype=tf.resource, name=None)\n",
            "  140709015283536: TensorSpec(shape=(), dtype=tf.resource, name=None)\n",
            "  140709015055312: TensorSpec(shape=(), dtype=tf.resource, name=None)\n",
            "  140708035698064: TensorSpec(shape=(), dtype=tf.resource, name=None)\n",
            "  140708035706128: TensorSpec(shape=(), dtype=tf.resource, name=None)\n",
            "  140709015163472: TensorSpec(shape=(), dtype=tf.resource, name=None)\n",
            "  140709015171536: TensorSpec(shape=(), dtype=tf.resource, name=None)\n",
            "  140709015278928: TensorSpec(shape=(), dtype=tf.resource, name=None)\n",
            "  140709015171344: TensorSpec(shape=(), dtype=tf.resource, name=None)\n",
            "  140709015057616: TensorSpec(shape=(), dtype=tf.resource, name=None)\n",
            "  140709015165584: TensorSpec(shape=(), dtype=tf.resource, name=None)\n",
            "  140709015167120: TensorSpec(shape=(), dtype=tf.resource, name=None)\n",
            "  140708035703056: TensorSpec(shape=(), dtype=tf.resource, name=None)\n",
            "  140709015277392: TensorSpec(shape=(), dtype=tf.resource, name=None)\n",
            "  140709015280464: TensorSpec(shape=(), dtype=tf.resource, name=None)\n",
            "  140709015165392: TensorSpec(shape=(), dtype=tf.resource, name=None)\n",
            "  140709015044368: TensorSpec(shape=(), dtype=tf.resource, name=None)\n",
            "  140709015161168: TensorSpec(shape=(), dtype=tf.resource, name=None)\n",
            "  140709015275472: TensorSpec(shape=(), dtype=tf.resource, name=None)\n",
            "  140709015060112: TensorSpec(shape=(), dtype=tf.resource, name=None)\n",
            "  140709015048976: TensorSpec(shape=(), dtype=tf.resource, name=None)\n",
            "  140709015278160: TensorSpec(shape=(), dtype=tf.resource, name=None)\n",
            "  140708035701328: TensorSpec(shape=(), dtype=tf.resource, name=None)\n",
            "  140709015055696: TensorSpec(shape=(), dtype=tf.resource, name=None)\n",
            "  140709015163280: TensorSpec(shape=(), dtype=tf.resource, name=None)\n",
            "  140708035699408: TensorSpec(shape=(), dtype=tf.resource, name=None)\n",
            "  140709015274128: TensorSpec(shape=(), dtype=tf.resource, name=None)\n",
            "  140709015045328: TensorSpec(shape=(), dtype=tf.resource, name=None)\n",
            "  140709015277200: TensorSpec(shape=(), dtype=tf.resource, name=None)\n",
            "  140709015173840: TensorSpec(shape=(), dtype=tf.resource, name=None)\n",
            "  140708035700176: TensorSpec(shape=(), dtype=tf.resource, name=None)\n",
            "  140709015280272: TensorSpec(shape=(), dtype=tf.resource, name=None)\n",
            "  140709015169232: TensorSpec(shape=(), dtype=tf.resource, name=None)\n",
            "  140709015165200: TensorSpec(shape=(), dtype=tf.resource, name=None)\n",
            "  140709015277008: TensorSpec(shape=(), dtype=tf.resource, name=None)\n",
            "  140709015280080: TensorSpec(shape=(), dtype=tf.resource, name=None)\n",
            "  140709015165008: TensorSpec(shape=(), dtype=tf.resource, name=None)\n",
            "  140709015046672: TensorSpec(shape=(), dtype=tf.resource, name=None)\n",
            "  140709015048784: TensorSpec(shape=(), dtype=tf.resource, name=None)\n",
            "  140709015048592: TensorSpec(shape=(), dtype=tf.resource, name=None)\n",
            "  140709015162320: TensorSpec(shape=(), dtype=tf.resource, name=None)\n",
            "  140709015282000: TensorSpec(shape=(), dtype=tf.resource, name=None)\n",
            "  140709015053392: TensorSpec(shape=(), dtype=tf.resource, name=None)\n",
            "  140709015283344: TensorSpec(shape=(), dtype=tf.resource, name=None)\n",
            "  140709015048400: TensorSpec(shape=(), dtype=tf.resource, name=None)\n",
            "  140709015279888: TensorSpec(shape=(), dtype=tf.resource, name=None)\n",
            "  140709015059152: TensorSpec(shape=(), dtype=tf.resource, name=None)\n",
            "  140709015275280: TensorSpec(shape=(), dtype=tf.resource, name=None)\n",
            "  140709015276816: TensorSpec(shape=(), dtype=tf.resource, name=None)\n",
            "  140709015045136: TensorSpec(shape=(), dtype=tf.resource, name=None)\n",
            "  140708035700368: TensorSpec(shape=(), dtype=tf.resource, name=None)\n",
            "  140709015276624: TensorSpec(shape=(), dtype=tf.resource, name=None)\n",
            "  140709015055120: TensorSpec(shape=(), dtype=tf.resource, name=None)\n",
            "  140709015160784: TensorSpec(shape=(), dtype=tf.resource, name=None)\n",
            "  140709015283152: TensorSpec(shape=(), dtype=tf.resource, name=None)\n",
            "  140709015173648: TensorSpec(shape=(), dtype=tf.resource, name=None)\n",
            "  140708035698448: TensorSpec(shape=(), dtype=tf.resource, name=None)\n",
            "  140709015159632: TensorSpec(shape=(), dtype=tf.resource, name=None)\n",
            "  140709015053200: TensorSpec(shape=(), dtype=tf.resource, name=None)\n",
            "  140709015056848: TensorSpec(shape=(), dtype=tf.resource, name=None)\n",
            "  140708035700560: TensorSpec(shape=(), dtype=tf.resource, name=None)\n",
            "  140709015164816: TensorSpec(shape=(), dtype=tf.resource, name=None)\n",
            "  140709015282960: TensorSpec(shape=(), dtype=tf.resource, name=None)\n",
            "  140709015162128: TensorSpec(shape=(), dtype=tf.resource, name=None)\n",
            "  140709015159440: TensorSpec(shape=(), dtype=tf.resource, name=None)\n",
            "  140709015171152: TensorSpec(shape=(), dtype=tf.resource, name=None)\n",
            "  140709015048208: TensorSpec(shape=(), dtype=tf.resource, name=None)\n",
            "  140709015160592: TensorSpec(shape=(), dtype=tf.resource, name=None)\n",
            "  140709015161936: TensorSpec(shape=(), dtype=tf.resource, name=None)\n",
            "  140709015169040: TensorSpec(shape=(), dtype=tf.resource, name=None)\n",
            "  140709015053008: TensorSpec(shape=(), dtype=tf.resource, name=None)\n",
            "  140709015050896: TensorSpec(shape=(), dtype=tf.resource, name=None)\n",
            "  140709015166928: TensorSpec(shape=(), dtype=tf.resource, name=None)\n",
            "  140709015279696: TensorSpec(shape=(), dtype=tf.resource, name=None)\n",
            "  140709015161744: TensorSpec(shape=(), dtype=tf.resource, name=None)\n",
            "  140709015048016: TensorSpec(shape=(), dtype=tf.resource, name=None)\n",
            "  140709015173456: TensorSpec(shape=(), dtype=tf.resource, name=None)\n",
            "  140708035705936: TensorSpec(shape=(), dtype=tf.resource, name=None)\n",
            "  140709015170960: TensorSpec(shape=(), dtype=tf.resource, name=None)\n",
            "  140709015056656: TensorSpec(shape=(), dtype=tf.resource, name=None)\n",
            "  140709015159248: TensorSpec(shape=(), dtype=tf.resource, name=None)\n",
            "  140709015276432: TensorSpec(shape=(), dtype=tf.resource, name=None)\n",
            "  140709015168848: TensorSpec(shape=(), dtype=tf.resource, name=None)\n",
            "  140709015168656: TensorSpec(shape=(), dtype=tf.resource, name=None)\n",
            "  140709015275088: TensorSpec(shape=(), dtype=tf.resource, name=None)\n",
            "  140709015166736: TensorSpec(shape=(), dtype=tf.resource, name=None)\n",
            "  140709015052048: TensorSpec(shape=(), dtype=tf.resource, name=None)\n",
            "  140709015273936: TensorSpec(shape=(), dtype=tf.resource, name=None)\n",
            "  140708035705744: TensorSpec(shape=(), dtype=tf.resource, name=None)\n",
            "  140709015170768: TensorSpec(shape=(), dtype=tf.resource, name=None)\n",
            "  140709015056464: TensorSpec(shape=(), dtype=tf.resource, name=None)\n",
            "  140709015279504: TensorSpec(shape=(), dtype=tf.resource, name=None)\n",
            "  140709015051856: TensorSpec(shape=(), dtype=tf.resource, name=None)\n",
            "  140709015170576: TensorSpec(shape=(), dtype=tf.resource, name=None)\n",
            "  140709015274896: TensorSpec(shape=(), dtype=tf.resource, name=None)\n",
            "  140709015273744: TensorSpec(shape=(), dtype=tf.resource, name=None)\n",
            "  140709015166544: TensorSpec(shape=(), dtype=tf.resource, name=None)\n",
            "  140709015274704: TensorSpec(shape=(), dtype=tf.resource, name=None)\n",
            "  140709015056272: TensorSpec(shape=(), dtype=tf.resource, name=None)\n",
            "  140709015168464: TensorSpec(shape=(), dtype=tf.resource, name=None)\n",
            "  140709015278736: TensorSpec(shape=(), dtype=tf.resource, name=None)\n",
            "  140709015044560: TensorSpec(shape=(), dtype=tf.resource, name=None)\n",
            "  140709015170384: TensorSpec(shape=(), dtype=tf.resource, name=None)\n",
            "  140709015058960: TensorSpec(shape=(), dtype=tf.resource, name=None)\n",
            "  140709015273552: TensorSpec(shape=(), dtype=tf.resource, name=None)\n",
            "  140709015047824: TensorSpec(shape=(), dtype=tf.resource, name=None)\n",
            "  140708035700752: TensorSpec(shape=(), dtype=tf.resource, name=None)\n",
            "  140709015058768: TensorSpec(shape=(), dtype=tf.resource, name=None)\n",
            "  140708035700944: TensorSpec(shape=(), dtype=tf.resource, name=None)\n",
            "  140709015164624: TensorSpec(shape=(), dtype=tf.resource, name=None)\n",
            "  140709015167696: TensorSpec(shape=(), dtype=tf.resource, name=None)\n",
            "  140709015056080: TensorSpec(shape=(), dtype=tf.resource, name=None)\n",
            "  140709015282768: TensorSpec(shape=(), dtype=tf.resource, name=None)\n",
            "  140709015168272: TensorSpec(shape=(), dtype=tf.resource, name=None)\n",
            "  140709015058576: TensorSpec(shape=(), dtype=tf.resource, name=None)\n",
            "  140709015054928: TensorSpec(shape=(), dtype=tf.resource, name=None)\n",
            "  140709015281808: TensorSpec(shape=(), dtype=tf.resource, name=None)\n",
            "  140709015166352: TensorSpec(shape=(), dtype=tf.resource, name=None)\n",
            "  140709015051664: TensorSpec(shape=(), dtype=tf.resource, name=None)\n",
            "  140709015046480: TensorSpec(shape=(), dtype=tf.resource, name=None)\n",
            "  140709015170192: TensorSpec(shape=(), dtype=tf.resource, name=None)\n",
            "  140709015167504: TensorSpec(shape=(), dtype=tf.resource, name=None)\n",
            "  140709015164432: TensorSpec(shape=(), dtype=tf.resource, name=None)\n",
            "  140709015044944: TensorSpec(shape=(), dtype=tf.resource, name=None)\n",
            "  140709015173264: TensorSpec(shape=(), dtype=tf.resource, name=None)\n",
            "  140709015055888: TensorSpec(shape=(), dtype=tf.resource, name=None)\n",
            "  140709015047632: TensorSpec(shape=(), dtype=tf.resource, name=None)\n",
            "  140708035705552: TensorSpec(shape=(), dtype=tf.resource, name=None)\n",
            "  140709015054736: TensorSpec(shape=(), dtype=tf.resource, name=None)\n",
            "  140709015058384: TensorSpec(shape=(), dtype=tf.resource, name=None)\n",
            "  140709015164240: TensorSpec(shape=(), dtype=tf.resource, name=None)\n",
            "  140708035697872: TensorSpec(shape=(), dtype=tf.resource, name=None)\n",
            "  140709015058000: TensorSpec(shape=(), dtype=tf.resource, name=None)\n",
            "  140709015276240: TensorSpec(shape=(), dtype=tf.resource, name=None)\n",
            "  140709015166160: TensorSpec(shape=(), dtype=tf.resource, name=None)\n",
            "  140708035702096: TensorSpec(shape=(), dtype=tf.resource, name=None)\n",
            "  140709015170000: TensorSpec(shape=(), dtype=tf.resource, name=None)\n",
            "  140709015173072: TensorSpec(shape=(), dtype=tf.resource, name=None)\n",
            "  140709015052816: TensorSpec(shape=(), dtype=tf.resource, name=None)\n",
            "  140709015050512: TensorSpec(shape=(), dtype=tf.resource, name=None)\n",
            "  140709015159056: TensorSpec(shape=(), dtype=tf.resource, name=None)\n",
            "  140709015158864: TensorSpec(shape=(), dtype=tf.resource, name=None)\n",
            "  140709015051472: TensorSpec(shape=(), dtype=tf.resource, name=None)\n",
            "  140708035701712: TensorSpec(shape=(), dtype=tf.resource, name=None)\n",
            "  140709015046288: TensorSpec(shape=(), dtype=tf.resource, name=None)\n",
            "  140709015168080: TensorSpec(shape=(), dtype=tf.resource, name=None)\n",
            "  140708035701904: TensorSpec(shape=(), dtype=tf.resource, name=None)\n",
            "  140709015174992: TensorSpec(shape=(), dtype=tf.resource, name=None)\n",
            "  140709015051280: TensorSpec(shape=(), dtype=tf.resource, name=None)\n",
            "  140709015278544: TensorSpec(shape=(), dtype=tf.resource, name=None)\n",
            "  140709015172112: TensorSpec(shape=(), dtype=tf.resource, name=None)\n",
            "  140709015060304: TensorSpec(shape=(), dtype=tf.resource, name=None)\n",
            "  140709015052624: TensorSpec(shape=(), dtype=tf.resource, name=None)\n",
            "  140708035698832: TensorSpec(shape=(), dtype=tf.resource, name=None)\n",
            "  140708035702288: TensorSpec(shape=(), dtype=tf.resource, name=None)\n",
            "  140709015165968: TensorSpec(shape=(), dtype=tf.resource, name=None)\n",
            "  140709015050320: TensorSpec(shape=(), dtype=tf.resource, name=None)\n",
            "  140709015282192: TensorSpec(shape=(), dtype=tf.resource, name=None)\n",
            "  140708035705168: TensorSpec(shape=(), dtype=tf.resource, name=None)\n",
            "  140709015046096: TensorSpec(shape=(), dtype=tf.resource, name=None)\n",
            "  140709015164048: TensorSpec(shape=(), dtype=tf.resource, name=None)\n",
            "  140709015045904: TensorSpec(shape=(), dtype=tf.resource, name=None)\n",
            "  140709015281616: TensorSpec(shape=(), dtype=tf.resource, name=None)\n",
            "  140709015054544: TensorSpec(shape=(), dtype=tf.resource, name=None)\n",
            "  140709015045712: TensorSpec(shape=(), dtype=tf.resource, name=None)\n",
            "  140709015172880: TensorSpec(shape=(), dtype=tf.resource, name=None)\n",
            "  140709015050128: TensorSpec(shape=(), dtype=tf.resource, name=None)\n",
            "  140708035701136: TensorSpec(shape=(), dtype=tf.resource, name=None)\n",
            "  140709015050704: TensorSpec(shape=(), dtype=tf.resource, name=None)\n",
            "  140709015054352: TensorSpec(shape=(), dtype=tf.resource, name=None)\n",
            "  140709015279312: TensorSpec(shape=(), dtype=tf.resource, name=None)\n",
            "  140709015057808: TensorSpec(shape=(), dtype=tf.resource, name=None)\n",
            "  140709015172688: TensorSpec(shape=(), dtype=tf.resource, name=None)\n",
            "  140709015274512: TensorSpec(shape=(), dtype=tf.resource, name=None)\n",
            "  140709015282576: TensorSpec(shape=(), dtype=tf.resource, name=None)\n",
            "  140709015044752: TensorSpec(shape=(), dtype=tf.resource, name=None)\n",
            "  140708035698640: TensorSpec(shape=(), dtype=tf.resource, name=None)\n",
            "  140709015174800: TensorSpec(shape=(), dtype=tf.resource, name=None)\n",
            "  140709015054160: TensorSpec(shape=(), dtype=tf.resource, name=None)\n",
            "  140709015172496: TensorSpec(shape=(), dtype=tf.resource, name=None)\n",
            "  140709015274320: TensorSpec(shape=(), dtype=tf.resource, name=None)\n",
            "  140708035702480: TensorSpec(shape=(), dtype=tf.resource, name=None)\n",
            "  140709015279120: TensorSpec(shape=(), dtype=tf.resource, name=None)\n",
            "  140708035702672: TensorSpec(shape=(), dtype=tf.resource, name=None)\n",
            "  140709015160400: TensorSpec(shape=(), dtype=tf.resource, name=None)\n",
            "  140709015169808: TensorSpec(shape=(), dtype=tf.resource, name=None)\n",
            "  140709015163664: TensorSpec(shape=(), dtype=tf.resource, name=None)\n",
            "  140709015161552: TensorSpec(shape=(), dtype=tf.resource, name=None)\n",
            "  140708035705360: TensorSpec(shape=(), dtype=tf.resource, name=None)\n",
            "  140709015049936: TensorSpec(shape=(), dtype=tf.resource, name=None)\n",
            "  140709015167888: TensorSpec(shape=(), dtype=tf.resource, name=None)\n",
            "  140709015160208: TensorSpec(shape=(), dtype=tf.resource, name=None)\n",
            "  140709015281424: TensorSpec(shape=(), dtype=tf.resource, name=None)\n",
            "  140708035702864: TensorSpec(shape=(), dtype=tf.resource, name=None)\n",
            "  140708035699024: TensorSpec(shape=(), dtype=tf.resource, name=None)\n",
            "  140709015160016: TensorSpec(shape=(), dtype=tf.resource, name=None)\n",
            "  140709015282384: TensorSpec(shape=(), dtype=tf.resource, name=None)\n",
            "  140709015058192: TensorSpec(shape=(), dtype=tf.resource, name=None)\n",
            "  140709015278352: TensorSpec(shape=(), dtype=tf.resource, name=None)\n",
            "  140709015045520: TensorSpec(shape=(), dtype=tf.resource, name=None)\n",
            "  140709015053968: TensorSpec(shape=(), dtype=tf.resource, name=None)\n",
            "  140709015047440: TensorSpec(shape=(), dtype=tf.resource, name=None)\n",
            "  140708035704016: TensorSpec(shape=(), dtype=tf.resource, name=None)\n",
            "  140708086300304: TensorSpec(shape=(), dtype=tf.resource, name=None)\n",
            "  140708056126608: TensorSpec(shape=(), dtype=tf.resource, name=None)\n",
            "✅ TensorFlow Lite model saved: edge_model.tflite\n"
          ]
        }
      ]
    }
  ]
}